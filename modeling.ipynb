{
 "cells": [
  {
   "cell_type": "code",
   "execution_count": 47,
   "metadata": {},
   "outputs": [],
   "source": [
    "from tensorflow.python.keras.models import Sequential\n",
    "from tensorflow.python.keras.layers import Convolution2D, MaxPooling2D, Flatten, Dense"
   ]
  },
  {
   "cell_type": "code",
   "execution_count": 48,
   "metadata": {},
   "outputs": [],
   "source": [
    "classifier = Sequential()\n",
    "classifier.add(Convolution2D(32, 3, 3, input_shape = (64, 64, 3),\n",
    "                            activation = 'relu'))\n",
    "classifier.add(MaxPooling2D(pool_size = (2,2)))\n",
    "classifier.add(Flatten())"
   ]
  },
  {
   "cell_type": "code",
   "execution_count": 49,
   "metadata": {},
   "outputs": [],
   "source": [
    "classifier.add(Dense(128, activation = 'relu'))\n",
    "classifier.add(Dense(10, activation = 'sigmoid'))\n",
    "\n",
    "classifier.compile(optimizer= 'adam', loss= 'binary_crossentropy',\n",
    "                  metrics = ['accuracy'])"
   ]
  },
  {
   "cell_type": "code",
   "execution_count": 1,
   "metadata": {},
   "outputs": [
    {
     "name": "stderr",
     "output_type": "stream",
     "text": [
      "Using TensorFlow backend.\n"
     ]
    }
   ],
   "source": [
    "from keras.preprocessing.image import ImageDataGenerator\n",
    "import os"
   ]
  },
  {
   "cell_type": "code",
   "execution_count": 2,
   "metadata": {},
   "outputs": [
    {
     "data": {
      "text/plain": [
       "'C:\\\\Users\\\\Dennis Febri Dien\\\\Documents\\\\college\\\\ML\\\\MLM'"
      ]
     },
     "execution_count": 2,
     "metadata": {},
     "output_type": "execute_result"
    }
   ],
   "source": [
    "\n",
    "os.getcwd()"
   ]
  },
  {
   "cell_type": "code",
   "execution_count": 52,
   "metadata": {},
   "outputs": [
    {
     "name": "stdout",
     "output_type": "stream",
     "text": [
      "Found 24000 images belonging to 10 classes.\n",
      "Found 3000 images belonging to 10 classes.\n"
     ]
    }
   ],
   "source": [
    "train_datagen = ImageDataGenerator(\n",
    "    rescale=1./255,\n",
    "    shear_range=0.2,\n",
    "    zoom_range=0.2,\n",
    "    horizontal_flip=True\n",
    ")\n",
    "\n",
    "test_datagen = ImageDataGenerator(rescale=1./255)\n",
    "\n",
    "training_set = train_datagen.flow_from_directory(\n",
    "    './DATA/train_set',\n",
    "    target_size=(64, 64),\n",
    "    batch_size=32,\n",
    "    class_mode='categorical'\n",
    ")\n",
    "\n",
    "test_set = train_datagen.flow_from_directory(\n",
    "    '.DATA/test_set',\n",
    "    target_size=(64, 64),\n",
    "    batch_size=32,\n",
    "    class_mode='categorical'\n",
    ")"
   ]
  },
  {
   "cell_type": "code",
   "execution_count": 53,
   "metadata": {},
   "outputs": [],
   "source": [
    "from IPython.display import display\n",
    "from PIL import Image"
   ]
  },
  {
   "cell_type": "code",
   "execution_count": 54,
   "metadata": {},
   "outputs": [
    {
     "name": "stdout",
     "output_type": "stream",
     "text": [
      "Epoch 1/10\n",
      "200/200 [==============================] - 201s 1s/step - loss: 0.2969 - acc: 0.8984 - val_loss: 0.2541 - val_acc: 0.9049\n",
      "Epoch 2/10\n",
      "200/200 [==============================] - 130s 649ms/step - loss: 0.2376 - acc: 0.9083 - val_loss: 0.2233 - val_acc: 0.9099\n",
      "Epoch 3/10\n",
      "200/200 [==============================] - 87s 434ms/step - loss: 0.2154 - acc: 0.9134 - val_loss: 0.2117 - val_acc: 0.9091\n",
      "Epoch 4/10\n",
      "200/200 [==============================] - 34s 171ms/step - loss: 0.2016 - acc: 0.9178 - val_loss: 0.1952 - val_acc: 0.9187\n",
      "Epoch 5/10\n",
      "200/200 [==============================] - 24s 118ms/step - loss: 0.1875 - acc: 0.9236 - val_loss: 0.1842 - val_acc: 0.9258\n",
      "Epoch 6/10\n",
      "200/200 [==============================] - 23s 116ms/step - loss: 0.1737 - acc: 0.9299 - val_loss: 0.1691 - val_acc: 0.9298\n",
      "Epoch 7/10\n",
      "200/200 [==============================] - 23s 115ms/step - loss: 0.1659 - acc: 0.9333 - val_loss: 0.1635 - val_acc: 0.9347\n",
      "Epoch 8/10\n",
      "200/200 [==============================] - 19s 95ms/step - loss: 0.1630 - acc: 0.9330 - val_loss: 0.1594 - val_acc: 0.9332\n",
      "Epoch 9/10\n",
      "200/200 [==============================] - 14s 70ms/step - loss: 0.1575 - acc: 0.9369 - val_loss: 0.1546 - val_acc: 0.9389\n",
      "Epoch 10/10\n",
      "200/200 [==============================] - 14s 72ms/step - loss: 0.1525 - acc: 0.9373 - val_loss: 0.1508 - val_acc: 0.9376\n"
     ]
    },
    {
     "data": {
      "text/plain": [
       "<tensorflow.python.keras.callbacks.History at 0x205cc368c50>"
      ]
     },
     "execution_count": 54,
     "metadata": {},
     "output_type": "execute_result"
    }
   ],
   "source": [
    "classifier.fit_generator(training_set,\n",
    "                        steps_per_epoch=200,\n",
    "                        epochs=10,\n",
    "                        validation_data=test_set,\n",
    "                        validation_steps=100)"
   ]
  },
  {
   "cell_type": "code",
   "execution_count": null,
   "metadata": {},
   "outputs": [],
   "source": []
  },
  {
   "cell_type": "code",
   "execution_count": null,
   "metadata": {},
   "outputs": [],
   "source": []
  }
 ],
 "metadata": {
  "kernelspec": {
   "display_name": "Python 3",
   "language": "python",
   "name": "python3"
  },
  "language_info": {
   "codemirror_mode": {
    "name": "ipython",
    "version": 3
   },
   "file_extension": ".py",
   "mimetype": "text/x-python",
   "name": "python",
   "nbconvert_exporter": "python",
   "pygments_lexer": "ipython3",
   "version": "3.6.8"
  }
 },
 "nbformat": 4,
 "nbformat_minor": 2
}
