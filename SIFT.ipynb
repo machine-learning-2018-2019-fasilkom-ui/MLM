{
 "cells": [
  {
   "cell_type": "code",
   "execution_count": 74,
   "metadata": {},
   "outputs": [],
   "source": [
    "import cv2\n",
    "import numpy as np\n",
    "import matplotlib.pyplot as plt\n",
    "%matplotlib inline\n",
    "from sklearn.model_selection import train_test_split\n",
    "from sklearn import svm"
   ]
  },
  {
   "cell_type": "code",
   "execution_count": 75,
   "metadata": {},
   "outputs": [],
   "source": [
    "AllFile = []\n",
    "for i in range(1, 301):\n",
    "    i1 = './eurosat/2750/AnnualCrop/AnnualCrop_%d.jpg' % i\n",
    "    \n",
    "    \n",
    "    AllFile.append(i1)\n",
    "    \n",
    "\n",
    "for i in range(1, 301):\n",
    "    i2 = './eurosat/2750/Forest/Forest_%d.jpg' % i\n",
    "    \n",
    "    AllFile.append(i2)\n",
    "    \n",
    "\n",
    "for i in range(1, 301):\n",
    "    \n",
    "    i3 = './eurosat/2750/HerbaceousVegetation/HerbaceousVegetation_%d.jpg' % i \n",
    "    AllFile.append(i3)\n",
    "    \n",
    "\n",
    "for i in range(1, 301):\n",
    "    i4 = './eurosat/2750/Highway/Highway_%d.jpg' % i\n",
    "    AllFile.append(i4)\n",
    "    \n",
    "\n",
    "for i in range(1, 301):\n",
    "    i5 = './eurosat/2750/Industrial/Industrial_%d.jpg' % i\n",
    "    \n",
    "    AllFile.append(i5)\n",
    "\n",
    "for i in range(1, 301):\n",
    "    i6 = './eurosat/2750/Pasture/Pasture_%d.jpg' % i\n",
    "   \n",
    "    AllFile.append(i6)\n",
    "    \n",
    "\n",
    "for i in range(1, 301):\n",
    "    i7 = './eurosat/2750/PermanentCrop/PermanentCrop_%d.jpg' % i\n",
    "    \n",
    "    AllFile.append(i7)\n",
    "    \n",
    "\n",
    "for i in range(1, 301):\n",
    "    i8 = './eurosat/2750/Residential/Residential_%d.jpg' % i\n",
    "    \n",
    "    \n",
    "    AllFile.append(i8)\n",
    "    \n",
    "\n",
    "for i in range(1, 301):\n",
    "    \n",
    "    i9 = './eurosat/2750/River/River_%d.jpg' % i\n",
    "   \n",
    "    \n",
    "    \n",
    "    AllFile.append(i9)\n",
    "   \n",
    "\n",
    "for i in range(1, 290):\n",
    "    i10 = './eurosat/2750/SeaLake/SeaLake_%d.jpg' % i\n",
    "    \n",
    "    \n",
    "    AllFile.append(i10)"
   ]
  },
  {
   "cell_type": "code",
   "execution_count": 76,
   "metadata": {},
   "outputs": [
    {
     "data": {
      "image/png": "[encoded data removed]",
      "text/plain": [
       "<Figure size 576x288 with 2 Axes>"
      ]
     },
     "metadata": {
      "needs_background": "light"
     },
     "output_type": "display_data"
    }
   ],
   "source": [
    "img = cv2.imread(AllFile[110])\n",
    "gray = cv2.cvtColor(img,cv2.COLOR_BGR2GRAY)\n",
    "\n",
    "fig, (ax1, ax2) = plt.subplots(1, 2, figsize=(8, 4), sharex=True, sharey=True)\n",
    "\n",
    "ax1.axis('off')\n",
    "ax1.imshow(img)\n",
    "ax1.set_title('Input image')\n",
    "\n",
    "# find Harris corners\n",
    "gray = np.float32(gray)\n",
    "dst = cv2.cornerHarris(gray,2,3,0.04)\n",
    "dst = cv2.dilate(dst,None)\n",
    "ret, dst = cv2.threshold(dst,0.01*dst.max(),255,0)\n",
    "dst = np.uint8(dst)\n",
    "\n",
    "# find centroids\n",
    "ret, labels, stats, centroids = cv2.connectedComponentsWithStats(dst)\n",
    "\n",
    "# define the criteria to stop and refine the corners\n",
    "criteria = (cv2.TERM_CRITERIA_EPS + cv2.TERM_CRITERIA_MAX_ITER, 100, 0.001)\n",
    "corners = cv2.cornerSubPix(gray,np.float32(centroids),(5,5),(-1,-1),criteria)\n",
    "\n",
    "# Now draw them\n",
    "res = np.hstack((centroids,corners))\n",
    "res = np.int0(res)\n",
    "img[res[:,1],res[:,0]]=[0,0,255]\n",
    "img[res[:,3],res[:,2]] = [0,255,0]\n",
    "\n",
    "ax2.axis('off')\n",
    "ax2.imshow(img, cmap=plt.cm.gray)\n",
    "ax2.set_title('SIFT')\n",
    "plt.show()"
   ]
  },
  {
   "cell_type": "code",
   "execution_count": 77,
   "metadata": {},
   "outputs": [
    {
     "name": "stdout",
     "output_type": "stream",
     "text": [
      "[[31.20586748 31.24279211]\n",
      " [55.29032258 12.64516129]\n",
      " [61.34482759 22.17241379]\n",
      " [33.5        38.5       ]\n",
      " [62.5        41.        ]\n",
      " [10.25       55.17857143]\n",
      " [15.5        62.5       ]\n",
      " [22.5        62.5       ]\n",
      " [36.5        62.5       ]\n",
      " [59.         62.5       ]]\n"
     ]
    }
   ],
   "source": [
    "#feature\n",
    "print(centroids)"
   ]
  },
  {
   "cell_type": "code",
   "execution_count": 78,
   "metadata": {},
   "outputs": [
    {
     "data": {
      "text/html": [
       "<div>\n",
       "<style scoped>\n",
       "    .dataframe tbody tr th:only-of-type {\n",
       "        vertical-align: middle;\n",
       "    }\n",
       "\n",
       "    .dataframe tbody tr th {\n",
       "        vertical-align: top;\n",
       "    }\n",
       "\n",
       "    .dataframe thead th {\n",
       "        text-align: right;\n",
       "    }\n",
       "</style>\n",
       "<table border=\"1\" class=\"dataframe\">\n",
       "  <thead>\n",
       "    <tr style=\"text-align: right;\">\n",
       "      <th></th>\n",
       "      <th>file</th>\n",
       "      <th>label</th>\n",
       "    </tr>\n",
       "  </thead>\n",
       "  <tbody>\n",
       "    <tr>\n",
       "      <th>0</th>\n",
       "      <td>./eurosat/2750/AnnualCrop/AnnualCrop_1.jpg</td>\n",
       "      <td>AnnualCrop</td>\n",
       "    </tr>\n",
       "    <tr>\n",
       "      <th>1</th>\n",
       "      <td>./eurosat/2750/AnnualCrop/AnnualCrop_2.jpg</td>\n",
       "      <td>AnnualCrop</td>\n",
       "    </tr>\n",
       "    <tr>\n",
       "      <th>2</th>\n",
       "      <td>./eurosat/2750/AnnualCrop/AnnualCrop_3.jpg</td>\n",
       "      <td>AnnualCrop</td>\n",
       "    </tr>\n",
       "    <tr>\n",
       "      <th>3</th>\n",
       "      <td>./eurosat/2750/AnnualCrop/AnnualCrop_4.jpg</td>\n",
       "      <td>AnnualCrop</td>\n",
       "    </tr>\n",
       "    <tr>\n",
       "      <th>4</th>\n",
       "      <td>./eurosat/2750/AnnualCrop/AnnualCrop_5.jpg</td>\n",
       "      <td>AnnualCrop</td>\n",
       "    </tr>\n",
       "  </tbody>\n",
       "</table>\n",
       "</div>"
      ],
      "text/plain": [
       "                                         file       label\n",
       "0  ./eurosat/2750/AnnualCrop/AnnualCrop_1.jpg  AnnualCrop\n",
       "1  ./eurosat/2750/AnnualCrop/AnnualCrop_2.jpg  AnnualCrop\n",
       "2  ./eurosat/2750/AnnualCrop/AnnualCrop_3.jpg  AnnualCrop\n",
       "3  ./eurosat/2750/AnnualCrop/AnnualCrop_4.jpg  AnnualCrop\n",
       "4  ./eurosat/2750/AnnualCrop/AnnualCrop_5.jpg  AnnualCrop"
      ]
     },
     "execution_count": 78,
     "metadata": {},
     "output_type": "execute_result"
    }
   ],
   "source": [
    "import pandas as pd\n",
    "df = pd.read_csv('./label.csv')\n",
    "df.head()"
   ]
  },
  {
   "cell_type": "code",
   "execution_count": 79,
   "metadata": {},
   "outputs": [],
   "source": [
    "SIFT_features=[]\n",
    "SIFT_images=[]\n",
    "\n",
    "for i in df['file'] :\n",
    "    img = cv2.imread(i)\n",
    "    gray = cv2.cvtColor(img, cv2.COLOR_BGR2GRAY)\n",
    "\n",
    "    # find Harris corners\n",
    "    gray = np.float32(gray)\n",
    "    dst = cv2.cornerHarris(gray,2,3,0.04)\n",
    "    dst = cv2.dilate(dst,None)\n",
    "    ret, dst = cv2.threshold(dst,0.01*dst.max(),255,0)\n",
    "    dst = np.uint8(dst)\n",
    "\n",
    "    # find centroids\n",
    "    ret, labels, stats, centroids = cv2.connectedComponentsWithStats(dst)\n",
    "\n",
    "    # define the criteria to stop and refine the corners\n",
    "    criteria = (cv2.TERM_CRITERIA_EPS + cv2.TERM_CRITERIA_MAX_ITER, 100, 0.001)\n",
    "    corners = cv2.cornerSubPix(gray,np.float32(centroids),(5,5),(-1,-1),criteria)\n",
    "\n",
    "    # Now draw them\n",
    "    res = np.hstack((centroids,corners))\n",
    "    res = np.int0(res)\n",
    "    res[res > 63] = 63\n",
    "    img[res[:,1],res[:,0]] = [0,0,255]\n",
    "    img[res[:,3],res[:,2]] = [0,255,0]\n",
    "    \n",
    "    SIFT_images.append(img)\n",
    "    SIFT_features.append(centroids)"
   ]
  },
  {
   "cell_type": "code",
   "execution_count": 80,
   "metadata": {},
   "outputs": [],
   "source": [
    "labels =  np.array(df['label'])"
   ]
  },
  {
   "cell_type": "code",
   "execution_count": 81,
   "metadata": {},
   "outputs": [],
   "source": [
    "sift_feature = np.array(SIFT_features)"
   ]
  },
  {
   "cell_type": "code",
   "execution_count": 82,
   "metadata": {},
   "outputs": [],
   "source": [
    "data_frame = np.hstack((sift_feature.ravel(),labels))"
   ]
  },
  {
   "cell_type": "code",
   "execution_count": 83,
   "metadata": {},
   "outputs": [],
   "source": [
    "np.random.shuffle(data_frame)\n",
    "partition = int(len(SIFT_features)*70/100)"
   ]
  },
  {
   "cell_type": "code",
   "execution_count": 86,
   "metadata": {},
   "outputs": [
    {
     "ename": "IndexError",
     "evalue": "too many indices for array",
     "output_type": "error",
     "traceback": [
      "\u001b[1;31m---------------------------------------------------------------------------\u001b[0m",
      "\u001b[1;31mIndexError\u001b[0m                                Traceback (most recent call last)",
      "\u001b[1;32m<ipython-input-86-0d346d793595>\u001b[0m in \u001b[0;36m<module>\u001b[1;34m()\u001b[0m\n\u001b[1;32m----> 1\u001b[1;33m \u001b[0mx_train\u001b[0m\u001b[1;33m,\u001b[0m \u001b[0mx_test\u001b[0m \u001b[1;33m=\u001b[0m \u001b[0mdata_frame\u001b[0m\u001b[1;33m[\u001b[0m\u001b[1;33m:\u001b[0m\u001b[0mpartition\u001b[0m\u001b[1;33m,\u001b[0m\u001b[1;33m:\u001b[0m\u001b[1;33m-\u001b[0m\u001b[1;36m1\u001b[0m\u001b[1;33m]\u001b[0m\u001b[1;33m.\u001b[0m\u001b[0mravel\u001b[0m\u001b[1;33m(\u001b[0m\u001b[1;33m)\u001b[0m\u001b[1;33m,\u001b[0m  \u001b[0mdata_frame\u001b[0m\u001b[1;33m[\u001b[0m\u001b[0mpartition\u001b[0m\u001b[1;33m:\u001b[0m\u001b[1;33m,\u001b[0m\u001b[1;33m:\u001b[0m\u001b[1;33m-\u001b[0m\u001b[1;36m1\u001b[0m\u001b[1;33m]\u001b[0m\u001b[1;33m.\u001b[0m\u001b[0mravel\u001b[0m\u001b[1;33m(\u001b[0m\u001b[1;33m)\u001b[0m\u001b[1;33m\u001b[0m\u001b[1;33m\u001b[0m\u001b[0m\n\u001b[0m\u001b[0;32m      2\u001b[0m \u001b[0my_train\u001b[0m\u001b[1;33m,\u001b[0m \u001b[0my_test\u001b[0m \u001b[1;33m=\u001b[0m \u001b[0mdata_frame\u001b[0m\u001b[1;33m[\u001b[0m\u001b[1;33m:\u001b[0m\u001b[0mpartition\u001b[0m\u001b[1;33m,\u001b[0m\u001b[1;33m-\u001b[0m\u001b[1;36m1\u001b[0m\u001b[1;33m:\u001b[0m\u001b[1;33m]\u001b[0m\u001b[1;33m.\u001b[0m\u001b[0mravel\u001b[0m\u001b[1;33m(\u001b[0m\u001b[1;33m)\u001b[0m \u001b[1;33m,\u001b[0m \u001b[0mdata_frame\u001b[0m\u001b[1;33m[\u001b[0m\u001b[0mpartition\u001b[0m\u001b[1;33m:\u001b[0m\u001b[1;33m,\u001b[0m\u001b[1;33m-\u001b[0m\u001b[1;36m1\u001b[0m\u001b[1;33m:\u001b[0m\u001b[1;33m]\u001b[0m\u001b[1;33m.\u001b[0m\u001b[0mravel\u001b[0m\u001b[1;33m(\u001b[0m\u001b[1;33m)\u001b[0m\u001b[1;33m\u001b[0m\u001b[1;33m\u001b[0m\u001b[0m\n",
      "\u001b[1;31mIndexError\u001b[0m: too many indices for array"
     ]
    }
   ],
   "source": [
    "x_train, x_test = data_frame[:partition,:-1].ravel(),  data_frame[partition:,:-1].ravel()\n",
    "y_train, y_test = data_frame[:partition,-1:].ravel() , data_frame[partition:,-1:].ravel()"
   ]
  },
  {
   "cell_type": "code",
   "execution_count": null,
   "metadata": {},
   "outputs": [],
   "source": [
    "clf = svm.SVC(kernel='linear', C=10).fit(x_train, y_train)"
   ]
  },
  {
   "cell_type": "code",
   "execution_count": null,
   "metadata": {},
   "outputs": [],
   "source": [
    "clf.score(x_test, y_test)"
   ]
  },
  {
   "cell_type": "code",
   "execution_count": null,
   "metadata": {},
   "outputs": [],
   "source": []
  }
 ],
 "metadata": {
  "kernelspec": {
   "display_name": "Python 3",
   "language": "python",
   "name": "python3"
  },
  "language_info": {
   "codemirror_mode": {
    "name": "ipython",
    "version": 3
   },
   "file_extension": ".py",
   "mimetype": "text/x-python",
   "name": "python",
   "nbconvert_exporter": "python",
   "pygments_lexer": "ipython3",
   "version": "3.7.1"
  }
 },
 "nbformat": 4,
 "nbformat_minor": 2
}
